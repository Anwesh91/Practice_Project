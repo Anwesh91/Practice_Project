{
 "cells": [
  {
   "cell_type": "code",
   "execution_count": 1,
   "metadata": {},
   "outputs": [],
   "source": [
    "import numpy as np\n",
    "import pandas as pd\n",
    "import matplotlib.pyplot as plt\n",
    "from matplotlib.pyplot import *\n",
    "import seaborn as sns\n",
    "\n",
    "from sklearn.metrics import accuracy_score\n",
    "from sklearn.metrics import confusion_matrix,classification_report\n",
    "\n",
    "from sklearn.linear_model import LogisticRegression\n",
    "from sklearn.model_selection import train_test_split\n",
    "from sklearn.preprocessing import LabelEncoder\n",
    "from sklearn.preprocessing import StandardScaler\n",
    "from sklearn.svm import SVC\n",
    "from sklearn.neural_network import MLPClassifier\n",
    "\n",
    "import warnings\n",
    "warnings.filterwarnings('ignore')\n"
   ]
  },
  {
   "cell_type": "code",
   "execution_count": 2,
   "metadata": {},
   "outputs": [
    {
     "data": {
      "text/html": [
       "<div>\n",
       "<style scoped>\n",
       "    .dataframe tbody tr th:only-of-type {\n",
       "        vertical-align: middle;\n",
       "    }\n",
       "\n",
       "    .dataframe tbody tr th {\n",
       "        vertical-align: top;\n",
       "    }\n",
       "\n",
       "    .dataframe thead th {\n",
       "        text-align: right;\n",
       "    }\n",
       "</style>\n",
       "<table border=\"1\" class=\"dataframe\">\n",
       "  <thead>\n",
       "    <tr style=\"text-align: right;\">\n",
       "      <th></th>\n",
       "      <th>class</th>\n",
       "      <th>cap-shape</th>\n",
       "      <th>cap-surface</th>\n",
       "      <th>cap-color</th>\n",
       "      <th>bruises</th>\n",
       "      <th>odor</th>\n",
       "      <th>gill-attachment</th>\n",
       "      <th>gill-spacing</th>\n",
       "      <th>gill-size</th>\n",
       "      <th>gill-color</th>\n",
       "      <th>...</th>\n",
       "      <th>stalk-surface-below-ring</th>\n",
       "      <th>stalk-color-above-ring</th>\n",
       "      <th>stalk-color-below-ring</th>\n",
       "      <th>veil-type</th>\n",
       "      <th>veil-color</th>\n",
       "      <th>ring-number</th>\n",
       "      <th>ring-type</th>\n",
       "      <th>spore-print-color</th>\n",
       "      <th>population</th>\n",
       "      <th>habitat</th>\n",
       "    </tr>\n",
       "  </thead>\n",
       "  <tbody>\n",
       "    <tr>\n",
       "      <th>0</th>\n",
       "      <td>p</td>\n",
       "      <td>x</td>\n",
       "      <td>s</td>\n",
       "      <td>n</td>\n",
       "      <td>t</td>\n",
       "      <td>p</td>\n",
       "      <td>f</td>\n",
       "      <td>c</td>\n",
       "      <td>n</td>\n",
       "      <td>k</td>\n",
       "      <td>...</td>\n",
       "      <td>s</td>\n",
       "      <td>w</td>\n",
       "      <td>w</td>\n",
       "      <td>p</td>\n",
       "      <td>w</td>\n",
       "      <td>o</td>\n",
       "      <td>p</td>\n",
       "      <td>k</td>\n",
       "      <td>s</td>\n",
       "      <td>u</td>\n",
       "    </tr>\n",
       "    <tr>\n",
       "      <th>1</th>\n",
       "      <td>e</td>\n",
       "      <td>x</td>\n",
       "      <td>s</td>\n",
       "      <td>y</td>\n",
       "      <td>t</td>\n",
       "      <td>a</td>\n",
       "      <td>f</td>\n",
       "      <td>c</td>\n",
       "      <td>b</td>\n",
       "      <td>k</td>\n",
       "      <td>...</td>\n",
       "      <td>s</td>\n",
       "      <td>w</td>\n",
       "      <td>w</td>\n",
       "      <td>p</td>\n",
       "      <td>w</td>\n",
       "      <td>o</td>\n",
       "      <td>p</td>\n",
       "      <td>n</td>\n",
       "      <td>n</td>\n",
       "      <td>g</td>\n",
       "    </tr>\n",
       "    <tr>\n",
       "      <th>2</th>\n",
       "      <td>e</td>\n",
       "      <td>b</td>\n",
       "      <td>s</td>\n",
       "      <td>w</td>\n",
       "      <td>t</td>\n",
       "      <td>l</td>\n",
       "      <td>f</td>\n",
       "      <td>c</td>\n",
       "      <td>b</td>\n",
       "      <td>n</td>\n",
       "      <td>...</td>\n",
       "      <td>s</td>\n",
       "      <td>w</td>\n",
       "      <td>w</td>\n",
       "      <td>p</td>\n",
       "      <td>w</td>\n",
       "      <td>o</td>\n",
       "      <td>p</td>\n",
       "      <td>n</td>\n",
       "      <td>n</td>\n",
       "      <td>m</td>\n",
       "    </tr>\n",
       "    <tr>\n",
       "      <th>3</th>\n",
       "      <td>p</td>\n",
       "      <td>x</td>\n",
       "      <td>y</td>\n",
       "      <td>w</td>\n",
       "      <td>t</td>\n",
       "      <td>p</td>\n",
       "      <td>f</td>\n",
       "      <td>c</td>\n",
       "      <td>n</td>\n",
       "      <td>n</td>\n",
       "      <td>...</td>\n",
       "      <td>s</td>\n",
       "      <td>w</td>\n",
       "      <td>w</td>\n",
       "      <td>p</td>\n",
       "      <td>w</td>\n",
       "      <td>o</td>\n",
       "      <td>p</td>\n",
       "      <td>k</td>\n",
       "      <td>s</td>\n",
       "      <td>u</td>\n",
       "    </tr>\n",
       "    <tr>\n",
       "      <th>4</th>\n",
       "      <td>e</td>\n",
       "      <td>x</td>\n",
       "      <td>s</td>\n",
       "      <td>g</td>\n",
       "      <td>f</td>\n",
       "      <td>n</td>\n",
       "      <td>f</td>\n",
       "      <td>w</td>\n",
       "      <td>b</td>\n",
       "      <td>k</td>\n",
       "      <td>...</td>\n",
       "      <td>s</td>\n",
       "      <td>w</td>\n",
       "      <td>w</td>\n",
       "      <td>p</td>\n",
       "      <td>w</td>\n",
       "      <td>o</td>\n",
       "      <td>e</td>\n",
       "      <td>n</td>\n",
       "      <td>a</td>\n",
       "      <td>g</td>\n",
       "    </tr>\n",
       "  </tbody>\n",
       "</table>\n",
       "<p>5 rows × 23 columns</p>\n",
       "</div>"
      ],
      "text/plain": [
       "  class cap-shape cap-surface cap-color bruises odor gill-attachment  \\\n",
       "0     p         x           s         n       t    p               f   \n",
       "1     e         x           s         y       t    a               f   \n",
       "2     e         b           s         w       t    l               f   \n",
       "3     p         x           y         w       t    p               f   \n",
       "4     e         x           s         g       f    n               f   \n",
       "\n",
       "  gill-spacing gill-size gill-color  ... stalk-surface-below-ring  \\\n",
       "0            c         n          k  ...                        s   \n",
       "1            c         b          k  ...                        s   \n",
       "2            c         b          n  ...                        s   \n",
       "3            c         n          n  ...                        s   \n",
       "4            w         b          k  ...                        s   \n",
       "\n",
       "  stalk-color-above-ring stalk-color-below-ring veil-type veil-color  \\\n",
       "0                      w                      w         p          w   \n",
       "1                      w                      w         p          w   \n",
       "2                      w                      w         p          w   \n",
       "3                      w                      w         p          w   \n",
       "4                      w                      w         p          w   \n",
       "\n",
       "  ring-number ring-type spore-print-color population habitat  \n",
       "0           o         p                 k          s       u  \n",
       "1           o         p                 n          n       g  \n",
       "2           o         p                 n          n       m  \n",
       "3           o         p                 k          s       u  \n",
       "4           o         e                 n          a       g  \n",
       "\n",
       "[5 rows x 23 columns]"
      ]
     },
     "execution_count": 2,
     "metadata": {},
     "output_type": "execute_result"
    }
   ],
   "source": [
    "df = pd.read_csv('mushrooms.csv')\n",
    "df.head()"
   ]
  },
  {
   "cell_type": "code",
   "execution_count": 3,
   "metadata": {},
   "outputs": [
    {
     "data": {
      "text/plain": [
       "(8124, 23)"
      ]
     },
     "execution_count": 3,
     "metadata": {},
     "output_type": "execute_result"
    }
   ],
   "source": [
    "df.shape"
   ]
  },
  {
   "cell_type": "code",
   "execution_count": 4,
   "metadata": {},
   "outputs": [
    {
     "data": {
      "text/plain": [
       "Index(['class', 'cap-shape', 'cap-surface', 'cap-color', 'bruises', 'odor',\n",
       "       'gill-attachment', 'gill-spacing', 'gill-size', 'gill-color',\n",
       "       'stalk-shape', 'stalk-root', 'stalk-surface-above-ring',\n",
       "       'stalk-surface-below-ring', 'stalk-color-above-ring',\n",
       "       'stalk-color-below-ring', 'veil-type', 'veil-color', 'ring-number',\n",
       "       'ring-type', 'spore-print-color', 'population', 'habitat'],\n",
       "      dtype='object')"
      ]
     },
     "execution_count": 4,
     "metadata": {},
     "output_type": "execute_result"
    }
   ],
   "source": [
    "df.keys()"
   ]
  },
  {
   "cell_type": "code",
   "execution_count": 5,
   "metadata": {},
   "outputs": [
    {
     "data": {
      "text/plain": [
       "Index(['class', 'cap-shape', 'cap-surface', 'cap-color', 'bruises', 'odor',\n",
       "       'gill-attachment', 'gill-spacing', 'gill-size', 'gill-color',\n",
       "       'stalk-shape', 'stalk-root', 'stalk-surface-above-ring',\n",
       "       'stalk-surface-below-ring', 'stalk-color-above-ring',\n",
       "       'stalk-color-below-ring', 'veil-type', 'veil-color', 'ring-number',\n",
       "       'ring-type', 'spore-print-color', 'population', 'habitat'],\n",
       "      dtype='object')"
      ]
     },
     "execution_count": 5,
     "metadata": {},
     "output_type": "execute_result"
    }
   ],
   "source": [
    "df.columns"
   ]
  },
  {
   "cell_type": "code",
   "execution_count": 6,
   "metadata": {},
   "outputs": [],
   "source": [
    "mapping = list()\n",
    "encoder = LabelEncoder()\n",
    "\n",
    "for column in range(len(df.columns)):\n",
    "    df[df.columns[column]] = encoder.fit_transform(df[df.columns[column]])\n",
    "    mapping_dict = {index: label for index, label in enumerate(encoder.classes_)}\n",
    "    mapping.append(mapping_dict)"
   ]
  },
  {
   "cell_type": "code",
   "execution_count": 7,
   "metadata": {},
   "outputs": [
    {
     "data": {
      "text/html": [
       "<div>\n",
       "<style scoped>\n",
       "    .dataframe tbody tr th:only-of-type {\n",
       "        vertical-align: middle;\n",
       "    }\n",
       "\n",
       "    .dataframe tbody tr th {\n",
       "        vertical-align: top;\n",
       "    }\n",
       "\n",
       "    .dataframe thead th {\n",
       "        text-align: right;\n",
       "    }\n",
       "</style>\n",
       "<table border=\"1\" class=\"dataframe\">\n",
       "  <thead>\n",
       "    <tr style=\"text-align: right;\">\n",
       "      <th></th>\n",
       "      <th>class</th>\n",
       "      <th>cap-shape</th>\n",
       "      <th>cap-surface</th>\n",
       "      <th>cap-color</th>\n",
       "      <th>bruises</th>\n",
       "      <th>odor</th>\n",
       "      <th>gill-attachment</th>\n",
       "      <th>gill-spacing</th>\n",
       "      <th>gill-size</th>\n",
       "      <th>gill-color</th>\n",
       "      <th>...</th>\n",
       "      <th>stalk-surface-below-ring</th>\n",
       "      <th>stalk-color-above-ring</th>\n",
       "      <th>stalk-color-below-ring</th>\n",
       "      <th>veil-type</th>\n",
       "      <th>veil-color</th>\n",
       "      <th>ring-number</th>\n",
       "      <th>ring-type</th>\n",
       "      <th>spore-print-color</th>\n",
       "      <th>population</th>\n",
       "      <th>habitat</th>\n",
       "    </tr>\n",
       "  </thead>\n",
       "  <tbody>\n",
       "    <tr>\n",
       "      <th>0</th>\n",
       "      <td>1</td>\n",
       "      <td>5</td>\n",
       "      <td>2</td>\n",
       "      <td>4</td>\n",
       "      <td>1</td>\n",
       "      <td>6</td>\n",
       "      <td>1</td>\n",
       "      <td>0</td>\n",
       "      <td>1</td>\n",
       "      <td>4</td>\n",
       "      <td>...</td>\n",
       "      <td>2</td>\n",
       "      <td>7</td>\n",
       "      <td>7</td>\n",
       "      <td>0</td>\n",
       "      <td>2</td>\n",
       "      <td>1</td>\n",
       "      <td>4</td>\n",
       "      <td>2</td>\n",
       "      <td>3</td>\n",
       "      <td>5</td>\n",
       "    </tr>\n",
       "    <tr>\n",
       "      <th>1</th>\n",
       "      <td>0</td>\n",
       "      <td>5</td>\n",
       "      <td>2</td>\n",
       "      <td>9</td>\n",
       "      <td>1</td>\n",
       "      <td>0</td>\n",
       "      <td>1</td>\n",
       "      <td>0</td>\n",
       "      <td>0</td>\n",
       "      <td>4</td>\n",
       "      <td>...</td>\n",
       "      <td>2</td>\n",
       "      <td>7</td>\n",
       "      <td>7</td>\n",
       "      <td>0</td>\n",
       "      <td>2</td>\n",
       "      <td>1</td>\n",
       "      <td>4</td>\n",
       "      <td>3</td>\n",
       "      <td>2</td>\n",
       "      <td>1</td>\n",
       "    </tr>\n",
       "    <tr>\n",
       "      <th>2</th>\n",
       "      <td>0</td>\n",
       "      <td>0</td>\n",
       "      <td>2</td>\n",
       "      <td>8</td>\n",
       "      <td>1</td>\n",
       "      <td>3</td>\n",
       "      <td>1</td>\n",
       "      <td>0</td>\n",
       "      <td>0</td>\n",
       "      <td>5</td>\n",
       "      <td>...</td>\n",
       "      <td>2</td>\n",
       "      <td>7</td>\n",
       "      <td>7</td>\n",
       "      <td>0</td>\n",
       "      <td>2</td>\n",
       "      <td>1</td>\n",
       "      <td>4</td>\n",
       "      <td>3</td>\n",
       "      <td>2</td>\n",
       "      <td>3</td>\n",
       "    </tr>\n",
       "    <tr>\n",
       "      <th>3</th>\n",
       "      <td>1</td>\n",
       "      <td>5</td>\n",
       "      <td>3</td>\n",
       "      <td>8</td>\n",
       "      <td>1</td>\n",
       "      <td>6</td>\n",
       "      <td>1</td>\n",
       "      <td>0</td>\n",
       "      <td>1</td>\n",
       "      <td>5</td>\n",
       "      <td>...</td>\n",
       "      <td>2</td>\n",
       "      <td>7</td>\n",
       "      <td>7</td>\n",
       "      <td>0</td>\n",
       "      <td>2</td>\n",
       "      <td>1</td>\n",
       "      <td>4</td>\n",
       "      <td>2</td>\n",
       "      <td>3</td>\n",
       "      <td>5</td>\n",
       "    </tr>\n",
       "    <tr>\n",
       "      <th>4</th>\n",
       "      <td>0</td>\n",
       "      <td>5</td>\n",
       "      <td>2</td>\n",
       "      <td>3</td>\n",
       "      <td>0</td>\n",
       "      <td>5</td>\n",
       "      <td>1</td>\n",
       "      <td>1</td>\n",
       "      <td>0</td>\n",
       "      <td>4</td>\n",
       "      <td>...</td>\n",
       "      <td>2</td>\n",
       "      <td>7</td>\n",
       "      <td>7</td>\n",
       "      <td>0</td>\n",
       "      <td>2</td>\n",
       "      <td>1</td>\n",
       "      <td>0</td>\n",
       "      <td>3</td>\n",
       "      <td>0</td>\n",
       "      <td>1</td>\n",
       "    </tr>\n",
       "    <tr>\n",
       "      <th>5</th>\n",
       "      <td>0</td>\n",
       "      <td>5</td>\n",
       "      <td>3</td>\n",
       "      <td>9</td>\n",
       "      <td>1</td>\n",
       "      <td>0</td>\n",
       "      <td>1</td>\n",
       "      <td>0</td>\n",
       "      <td>0</td>\n",
       "      <td>5</td>\n",
       "      <td>...</td>\n",
       "      <td>2</td>\n",
       "      <td>7</td>\n",
       "      <td>7</td>\n",
       "      <td>0</td>\n",
       "      <td>2</td>\n",
       "      <td>1</td>\n",
       "      <td>4</td>\n",
       "      <td>2</td>\n",
       "      <td>2</td>\n",
       "      <td>1</td>\n",
       "    </tr>\n",
       "    <tr>\n",
       "      <th>6</th>\n",
       "      <td>0</td>\n",
       "      <td>0</td>\n",
       "      <td>2</td>\n",
       "      <td>8</td>\n",
       "      <td>1</td>\n",
       "      <td>0</td>\n",
       "      <td>1</td>\n",
       "      <td>0</td>\n",
       "      <td>0</td>\n",
       "      <td>2</td>\n",
       "      <td>...</td>\n",
       "      <td>2</td>\n",
       "      <td>7</td>\n",
       "      <td>7</td>\n",
       "      <td>0</td>\n",
       "      <td>2</td>\n",
       "      <td>1</td>\n",
       "      <td>4</td>\n",
       "      <td>2</td>\n",
       "      <td>2</td>\n",
       "      <td>3</td>\n",
       "    </tr>\n",
       "    <tr>\n",
       "      <th>7</th>\n",
       "      <td>0</td>\n",
       "      <td>0</td>\n",
       "      <td>3</td>\n",
       "      <td>8</td>\n",
       "      <td>1</td>\n",
       "      <td>3</td>\n",
       "      <td>1</td>\n",
       "      <td>0</td>\n",
       "      <td>0</td>\n",
       "      <td>5</td>\n",
       "      <td>...</td>\n",
       "      <td>2</td>\n",
       "      <td>7</td>\n",
       "      <td>7</td>\n",
       "      <td>0</td>\n",
       "      <td>2</td>\n",
       "      <td>1</td>\n",
       "      <td>4</td>\n",
       "      <td>3</td>\n",
       "      <td>3</td>\n",
       "      <td>3</td>\n",
       "    </tr>\n",
       "    <tr>\n",
       "      <th>8</th>\n",
       "      <td>1</td>\n",
       "      <td>5</td>\n",
       "      <td>3</td>\n",
       "      <td>8</td>\n",
       "      <td>1</td>\n",
       "      <td>6</td>\n",
       "      <td>1</td>\n",
       "      <td>0</td>\n",
       "      <td>1</td>\n",
       "      <td>7</td>\n",
       "      <td>...</td>\n",
       "      <td>2</td>\n",
       "      <td>7</td>\n",
       "      <td>7</td>\n",
       "      <td>0</td>\n",
       "      <td>2</td>\n",
       "      <td>1</td>\n",
       "      <td>4</td>\n",
       "      <td>2</td>\n",
       "      <td>4</td>\n",
       "      <td>1</td>\n",
       "    </tr>\n",
       "    <tr>\n",
       "      <th>9</th>\n",
       "      <td>0</td>\n",
       "      <td>0</td>\n",
       "      <td>2</td>\n",
       "      <td>9</td>\n",
       "      <td>1</td>\n",
       "      <td>0</td>\n",
       "      <td>1</td>\n",
       "      <td>0</td>\n",
       "      <td>0</td>\n",
       "      <td>2</td>\n",
       "      <td>...</td>\n",
       "      <td>2</td>\n",
       "      <td>7</td>\n",
       "      <td>7</td>\n",
       "      <td>0</td>\n",
       "      <td>2</td>\n",
       "      <td>1</td>\n",
       "      <td>4</td>\n",
       "      <td>2</td>\n",
       "      <td>3</td>\n",
       "      <td>3</td>\n",
       "    </tr>\n",
       "  </tbody>\n",
       "</table>\n",
       "<p>10 rows × 23 columns</p>\n",
       "</div>"
      ],
      "text/plain": [
       "   class  cap-shape  cap-surface  cap-color  bruises  odor  gill-attachment  \\\n",
       "0      1          5            2          4        1     6                1   \n",
       "1      0          5            2          9        1     0                1   \n",
       "2      0          0            2          8        1     3                1   \n",
       "3      1          5            3          8        1     6                1   \n",
       "4      0          5            2          3        0     5                1   \n",
       "5      0          5            3          9        1     0                1   \n",
       "6      0          0            2          8        1     0                1   \n",
       "7      0          0            3          8        1     3                1   \n",
       "8      1          5            3          8        1     6                1   \n",
       "9      0          0            2          9        1     0                1   \n",
       "\n",
       "   gill-spacing  gill-size  gill-color  ...  stalk-surface-below-ring  \\\n",
       "0             0          1           4  ...                         2   \n",
       "1             0          0           4  ...                         2   \n",
       "2             0          0           5  ...                         2   \n",
       "3             0          1           5  ...                         2   \n",
       "4             1          0           4  ...                         2   \n",
       "5             0          0           5  ...                         2   \n",
       "6             0          0           2  ...                         2   \n",
       "7             0          0           5  ...                         2   \n",
       "8             0          1           7  ...                         2   \n",
       "9             0          0           2  ...                         2   \n",
       "\n",
       "   stalk-color-above-ring  stalk-color-below-ring  veil-type  veil-color  \\\n",
       "0                       7                       7          0           2   \n",
       "1                       7                       7          0           2   \n",
       "2                       7                       7          0           2   \n",
       "3                       7                       7          0           2   \n",
       "4                       7                       7          0           2   \n",
       "5                       7                       7          0           2   \n",
       "6                       7                       7          0           2   \n",
       "7                       7                       7          0           2   \n",
       "8                       7                       7          0           2   \n",
       "9                       7                       7          0           2   \n",
       "\n",
       "   ring-number  ring-type  spore-print-color  population  habitat  \n",
       "0            1          4                  2           3        5  \n",
       "1            1          4                  3           2        1  \n",
       "2            1          4                  3           2        3  \n",
       "3            1          4                  2           3        5  \n",
       "4            1          0                  3           0        1  \n",
       "5            1          4                  2           2        1  \n",
       "6            1          4                  2           2        3  \n",
       "7            1          4                  3           3        3  \n",
       "8            1          4                  2           4        1  \n",
       "9            1          4                  2           3        3  \n",
       "\n",
       "[10 rows x 23 columns]"
      ]
     },
     "execution_count": 7,
     "metadata": {},
     "output_type": "execute_result"
    }
   ],
   "source": [
    "df.head(10)"
   ]
  },
  {
   "cell_type": "code",
   "execution_count": 8,
   "metadata": {},
   "outputs": [
    {
     "data": {
      "text/plain": [
       "[{0: 'e', 1: 'p'},\n",
       " {0: 'b', 1: 'c', 2: 'f', 3: 'k', 4: 's', 5: 'x'},\n",
       " {0: 'f', 1: 'g', 2: 's', 3: 'y'},\n",
       " {0: 'b',\n",
       "  1: 'c',\n",
       "  2: 'e',\n",
       "  3: 'g',\n",
       "  4: 'n',\n",
       "  5: 'p',\n",
       "  6: 'r',\n",
       "  7: 'u',\n",
       "  8: 'w',\n",
       "  9: 'y'},\n",
       " {0: 'f', 1: 't'},\n",
       " {0: 'a', 1: 'c', 2: 'f', 3: 'l', 4: 'm', 5: 'n', 6: 'p', 7: 's', 8: 'y'},\n",
       " {0: 'a', 1: 'f'},\n",
       " {0: 'c', 1: 'w'},\n",
       " {0: 'b', 1: 'n'},\n",
       " {0: 'b',\n",
       "  1: 'e',\n",
       "  2: 'g',\n",
       "  3: 'h',\n",
       "  4: 'k',\n",
       "  5: 'n',\n",
       "  6: 'o',\n",
       "  7: 'p',\n",
       "  8: 'r',\n",
       "  9: 'u',\n",
       "  10: 'w',\n",
       "  11: 'y'},\n",
       " {0: 'e', 1: 't'},\n",
       " {0: '?', 1: 'b', 2: 'c', 3: 'e', 4: 'r'},\n",
       " {0: 'f', 1: 'k', 2: 's', 3: 'y'},\n",
       " {0: 'f', 1: 'k', 2: 's', 3: 'y'},\n",
       " {0: 'b', 1: 'c', 2: 'e', 3: 'g', 4: 'n', 5: 'o', 6: 'p', 7: 'w', 8: 'y'},\n",
       " {0: 'b', 1: 'c', 2: 'e', 3: 'g', 4: 'n', 5: 'o', 6: 'p', 7: 'w', 8: 'y'},\n",
       " {0: 'p'},\n",
       " {0: 'n', 1: 'o', 2: 'w', 3: 'y'},\n",
       " {0: 'n', 1: 'o', 2: 't'},\n",
       " {0: 'e', 1: 'f', 2: 'l', 3: 'n', 4: 'p'},\n",
       " {0: 'b', 1: 'h', 2: 'k', 3: 'n', 4: 'o', 5: 'r', 6: 'u', 7: 'w', 8: 'y'},\n",
       " {0: 'a', 1: 'c', 2: 'n', 3: 's', 4: 'v', 5: 'y'},\n",
       " {0: 'd', 1: 'g', 2: 'l', 3: 'm', 4: 'p', 5: 'u', 6: 'w'}]"
      ]
     },
     "execution_count": 8,
     "metadata": {},
     "output_type": "execute_result"
    }
   ],
   "source": [
    "mapping"
   ]
  },
  {
   "cell_type": "code",
   "execution_count": 9,
   "metadata": {},
   "outputs": [],
   "source": [
    "y = df['class']\n",
    "x = df.drop('class', axis=1)"
   ]
  },
  {
   "cell_type": "code",
   "execution_count": 10,
   "metadata": {},
   "outputs": [],
   "source": [
    "x_train, x_test,y_train,y_test=train_test_split(x,y,test_size=0.85)"
   ]
  },
  {
   "cell_type": "code",
   "execution_count": 11,
   "metadata": {},
   "outputs": [
    {
     "data": {
      "text/html": [
       "<div>\n",
       "<style scoped>\n",
       "    .dataframe tbody tr th:only-of-type {\n",
       "        vertical-align: middle;\n",
       "    }\n",
       "\n",
       "    .dataframe tbody tr th {\n",
       "        vertical-align: top;\n",
       "    }\n",
       "\n",
       "    .dataframe thead th {\n",
       "        text-align: right;\n",
       "    }\n",
       "</style>\n",
       "<table border=\"1\" class=\"dataframe\">\n",
       "  <thead>\n",
       "    <tr style=\"text-align: right;\">\n",
       "      <th></th>\n",
       "      <th>cap-shape</th>\n",
       "      <th>cap-surface</th>\n",
       "      <th>cap-color</th>\n",
       "      <th>bruises</th>\n",
       "      <th>odor</th>\n",
       "      <th>gill-attachment</th>\n",
       "      <th>gill-spacing</th>\n",
       "      <th>gill-size</th>\n",
       "      <th>gill-color</th>\n",
       "      <th>stalk-shape</th>\n",
       "      <th>...</th>\n",
       "      <th>stalk-surface-below-ring</th>\n",
       "      <th>stalk-color-above-ring</th>\n",
       "      <th>stalk-color-below-ring</th>\n",
       "      <th>veil-type</th>\n",
       "      <th>veil-color</th>\n",
       "      <th>ring-number</th>\n",
       "      <th>ring-type</th>\n",
       "      <th>spore-print-color</th>\n",
       "      <th>population</th>\n",
       "      <th>habitat</th>\n",
       "    </tr>\n",
       "  </thead>\n",
       "  <tbody>\n",
       "    <tr>\n",
       "      <th>2709</th>\n",
       "      <td>5</td>\n",
       "      <td>3</td>\n",
       "      <td>3</td>\n",
       "      <td>1</td>\n",
       "      <td>5</td>\n",
       "      <td>1</td>\n",
       "      <td>0</td>\n",
       "      <td>0</td>\n",
       "      <td>9</td>\n",
       "      <td>1</td>\n",
       "      <td>...</td>\n",
       "      <td>2</td>\n",
       "      <td>7</td>\n",
       "      <td>7</td>\n",
       "      <td>0</td>\n",
       "      <td>2</td>\n",
       "      <td>1</td>\n",
       "      <td>4</td>\n",
       "      <td>2</td>\n",
       "      <td>4</td>\n",
       "      <td>0</td>\n",
       "    </tr>\n",
       "    <tr>\n",
       "      <th>1948</th>\n",
       "      <td>5</td>\n",
       "      <td>3</td>\n",
       "      <td>3</td>\n",
       "      <td>1</td>\n",
       "      <td>5</td>\n",
       "      <td>1</td>\n",
       "      <td>0</td>\n",
       "      <td>0</td>\n",
       "      <td>5</td>\n",
       "      <td>1</td>\n",
       "      <td>...</td>\n",
       "      <td>2</td>\n",
       "      <td>3</td>\n",
       "      <td>3</td>\n",
       "      <td>0</td>\n",
       "      <td>2</td>\n",
       "      <td>1</td>\n",
       "      <td>4</td>\n",
       "      <td>3</td>\n",
       "      <td>4</td>\n",
       "      <td>0</td>\n",
       "    </tr>\n",
       "    <tr>\n",
       "      <th>7495</th>\n",
       "      <td>3</td>\n",
       "      <td>2</td>\n",
       "      <td>4</td>\n",
       "      <td>0</td>\n",
       "      <td>7</td>\n",
       "      <td>1</td>\n",
       "      <td>0</td>\n",
       "      <td>1</td>\n",
       "      <td>0</td>\n",
       "      <td>1</td>\n",
       "      <td>...</td>\n",
       "      <td>1</td>\n",
       "      <td>7</td>\n",
       "      <td>6</td>\n",
       "      <td>0</td>\n",
       "      <td>2</td>\n",
       "      <td>1</td>\n",
       "      <td>0</td>\n",
       "      <td>7</td>\n",
       "      <td>4</td>\n",
       "      <td>4</td>\n",
       "    </tr>\n",
       "    <tr>\n",
       "      <th>6850</th>\n",
       "      <td>5</td>\n",
       "      <td>2</td>\n",
       "      <td>4</td>\n",
       "      <td>0</td>\n",
       "      <td>2</td>\n",
       "      <td>1</td>\n",
       "      <td>0</td>\n",
       "      <td>1</td>\n",
       "      <td>0</td>\n",
       "      <td>1</td>\n",
       "      <td>...</td>\n",
       "      <td>1</td>\n",
       "      <td>7</td>\n",
       "      <td>7</td>\n",
       "      <td>0</td>\n",
       "      <td>2</td>\n",
       "      <td>1</td>\n",
       "      <td>0</td>\n",
       "      <td>7</td>\n",
       "      <td>4</td>\n",
       "      <td>0</td>\n",
       "    </tr>\n",
       "    <tr>\n",
       "      <th>7913</th>\n",
       "      <td>0</td>\n",
       "      <td>2</td>\n",
       "      <td>4</td>\n",
       "      <td>0</td>\n",
       "      <td>5</td>\n",
       "      <td>0</td>\n",
       "      <td>0</td>\n",
       "      <td>0</td>\n",
       "      <td>5</td>\n",
       "      <td>0</td>\n",
       "      <td>...</td>\n",
       "      <td>2</td>\n",
       "      <td>5</td>\n",
       "      <td>5</td>\n",
       "      <td>0</td>\n",
       "      <td>1</td>\n",
       "      <td>1</td>\n",
       "      <td>4</td>\n",
       "      <td>4</td>\n",
       "      <td>4</td>\n",
       "      <td>2</td>\n",
       "    </tr>\n",
       "  </tbody>\n",
       "</table>\n",
       "<p>5 rows × 22 columns</p>\n",
       "</div>"
      ],
      "text/plain": [
       "      cap-shape  cap-surface  cap-color  bruises  odor  gill-attachment  \\\n",
       "2709          5            3          3        1     5                1   \n",
       "1948          5            3          3        1     5                1   \n",
       "7495          3            2          4        0     7                1   \n",
       "6850          5            2          4        0     2                1   \n",
       "7913          0            2          4        0     5                0   \n",
       "\n",
       "      gill-spacing  gill-size  gill-color  stalk-shape  ...  \\\n",
       "2709             0          0           9            1  ...   \n",
       "1948             0          0           5            1  ...   \n",
       "7495             0          1           0            1  ...   \n",
       "6850             0          1           0            1  ...   \n",
       "7913             0          0           5            0  ...   \n",
       "\n",
       "      stalk-surface-below-ring  stalk-color-above-ring  \\\n",
       "2709                         2                       7   \n",
       "1948                         2                       3   \n",
       "7495                         1                       7   \n",
       "6850                         1                       7   \n",
       "7913                         2                       5   \n",
       "\n",
       "      stalk-color-below-ring  veil-type  veil-color  ring-number  ring-type  \\\n",
       "2709                       7          0           2            1          4   \n",
       "1948                       3          0           2            1          4   \n",
       "7495                       6          0           2            1          0   \n",
       "6850                       7          0           2            1          0   \n",
       "7913                       5          0           1            1          4   \n",
       "\n",
       "      spore-print-color  population  habitat  \n",
       "2709                  2           4        0  \n",
       "1948                  3           4        0  \n",
       "7495                  7           4        4  \n",
       "6850                  7           4        0  \n",
       "7913                  4           4        2  \n",
       "\n",
       "[5 rows x 22 columns]"
      ]
     },
     "execution_count": 11,
     "metadata": {},
     "output_type": "execute_result"
    }
   ],
   "source": [
    "x_train.head(5)"
   ]
  },
  {
   "cell_type": "code",
   "execution_count": 12,
   "metadata": {},
   "outputs": [
    {
     "data": {
      "text/plain": [
       "(8124, 22)"
      ]
     },
     "execution_count": 12,
     "metadata": {},
     "output_type": "execute_result"
    }
   ],
   "source": [
    "x.shape"
   ]
  },
  {
   "cell_type": "code",
   "execution_count": 13,
   "metadata": {},
   "outputs": [
    {
     "data": {
      "text/plain": [
       "(8124,)"
      ]
     },
     "execution_count": 13,
     "metadata": {},
     "output_type": "execute_result"
    }
   ],
   "source": [
    "y.shape"
   ]
  },
  {
   "cell_type": "code",
   "execution_count": 14,
   "metadata": {},
   "outputs": [
    {
     "data": {
      "text/plain": [
       "(1218, 22)"
      ]
     },
     "execution_count": 14,
     "metadata": {},
     "output_type": "execute_result"
    }
   ],
   "source": [
    "x_train.shape"
   ]
  },
  {
   "cell_type": "code",
   "execution_count": 15,
   "metadata": {},
   "outputs": [
    {
     "data": {
      "text/plain": [
       "(6906, 22)"
      ]
     },
     "execution_count": 15,
     "metadata": {},
     "output_type": "execute_result"
    }
   ],
   "source": [
    "x_test.shape"
   ]
  },
  {
   "cell_type": "code",
   "execution_count": 16,
   "metadata": {},
   "outputs": [
    {
     "data": {
      "text/plain": [
       "(6906,)"
      ]
     },
     "execution_count": 16,
     "metadata": {},
     "output_type": "execute_result"
    }
   ],
   "source": [
    "y_test.shape"
   ]
  },
  {
   "cell_type": "code",
   "execution_count": 17,
   "metadata": {},
   "outputs": [
    {
     "data": {
      "text/plain": [
       "(1218,)"
      ]
     },
     "execution_count": 17,
     "metadata": {},
     "output_type": "execute_result"
    }
   ],
   "source": [
    "y_train.shape"
   ]
  },
  {
   "cell_type": "code",
   "execution_count": 18,
   "metadata": {},
   "outputs": [],
   "source": [
    "lg = LogisticRegression()"
   ]
  },
  {
   "cell_type": "code",
   "execution_count": 19,
   "metadata": {},
   "outputs": [
    {
     "data": {
      "text/plain": [
       "LogisticRegression()"
      ]
     },
     "execution_count": 19,
     "metadata": {},
     "output_type": "execute_result"
    }
   ],
   "source": [
    "lg.fit(x_test,y_test)"
   ]
  },
  {
   "cell_type": "code",
   "execution_count": 20,
   "metadata": {},
   "outputs": [
    {
     "data": {
      "text/plain": [
       "LogisticRegression()"
      ]
     },
     "execution_count": 20,
     "metadata": {},
     "output_type": "execute_result"
    }
   ],
   "source": [
    "lg.fit(x_train,y_train)"
   ]
  },
  {
   "cell_type": "code",
   "execution_count": 21,
   "metadata": {},
   "outputs": [
    {
     "name": "stdout",
     "output_type": "stream",
     "text": [
      "[0 1 1 ... 0 0 1]\n"
     ]
    }
   ],
   "source": [
    "pred=lg.predict(x_test)\n",
    "print (pred)"
   ]
  },
  {
   "cell_type": "code",
   "execution_count": null,
   "metadata": {},
   "outputs": [],
   "source": []
  },
  {
   "cell_type": "code",
   "execution_count": 22,
   "metadata": {},
   "outputs": [],
   "source": [
    "sv = SVC(C=1.0, kernel= 'rbf')\n",
    "nn_model = MLPClassifier(hidden_layer_sizes=(128, 128))"
   ]
  },
  {
   "cell_type": "code",
   "execution_count": 23,
   "metadata": {},
   "outputs": [
    {
     "data": {
      "text/plain": [
       "MLPClassifier(hidden_layer_sizes=(128, 128))"
      ]
     },
     "execution_count": 23,
     "metadata": {},
     "output_type": "execute_result"
    }
   ],
   "source": [
    "sv.fit(x_train,y_train)\n",
    "nn_model.fit(x_train,y_train)\n",
    "sv.fit(x_test,y_test)\n",
    "nn_model.fit(x_test,y_test)"
   ]
  },
  {
   "cell_type": "code",
   "execution_count": 24,
   "metadata": {},
   "outputs": [],
   "source": [
    "svpred=sv.predict(x_test)\n",
    "nn_pred=nn_model.predict(x_test)\n"
   ]
  },
  {
   "cell_type": "code",
   "execution_count": 25,
   "metadata": {},
   "outputs": [
    {
     "name": "stdout",
     "output_type": "stream",
     "text": [
      "accuracy_score:SVM 0.9917463075586447\n",
      "[[3582    4]\n",
      " [  53 3267]]\n",
      "              precision    recall  f1-score   support\n",
      "\n",
      "           0       0.99      1.00      0.99      3586\n",
      "           1       1.00      0.98      0.99      3320\n",
      "\n",
      "    accuracy                           0.99      6906\n",
      "   macro avg       0.99      0.99      0.99      6906\n",
      "weighted avg       0.99      0.99      0.99      6906\n",
      "\n"
     ]
    }
   ],
   "source": [
    "print(\"accuracy_score:SVM\",accuracy_score(y_test,svpred,'/n'))\n",
    "print(confusion_matrix(y_test,svpred))\n",
    "print(classification_report(y_test,svpred))"
   ]
  },
  {
   "cell_type": "code",
   "execution_count": 26,
   "metadata": {},
   "outputs": [
    {
     "name": "stdout",
     "output_type": "stream",
     "text": [
      "accuracy_score:MLPClassifier 1.0\n",
      "[[3586    0]\n",
      " [   0 3320]]\n",
      "              precision    recall  f1-score   support\n",
      "\n",
      "           0       1.00      1.00      1.00      3586\n",
      "           1       1.00      1.00      1.00      3320\n",
      "\n",
      "    accuracy                           1.00      6906\n",
      "   macro avg       1.00      1.00      1.00      6906\n",
      "weighted avg       1.00      1.00      1.00      6906\n",
      "\n"
     ]
    }
   ],
   "source": [
    "print(\"accuracy_score:MLPClassifier\",accuracy_score(y_test,nn_pred,'/n'))\n",
    "print(confusion_matrix(y_test,nn_pred))\n",
    "print(classification_report(y_test,nn_pred))"
   ]
  },
  {
   "cell_type": "code",
   "execution_count": 27,
   "metadata": {},
   "outputs": [
    {
     "name": "stdout",
     "output_type": "stream",
     "text": [
      "accuracy_score:LogisticRegression 0.9412105415580655\n",
      "[[3412  174]\n",
      " [ 232 3088]]\n",
      "              precision    recall  f1-score   support\n",
      "\n",
      "           0       0.94      0.95      0.94      3586\n",
      "           1       0.95      0.93      0.94      3320\n",
      "\n",
      "    accuracy                           0.94      6906\n",
      "   macro avg       0.94      0.94      0.94      6906\n",
      "weighted avg       0.94      0.94      0.94      6906\n",
      "\n"
     ]
    }
   ],
   "source": [
    "print(\"accuracy_score:LogisticRegression\",accuracy_score(y_test,pred,'/n'))\n",
    "print(confusion_matrix(y_test,pred))\n",
    "print(classification_report(y_test,pred))"
   ]
  },
  {
   "cell_type": "code",
   "execution_count": 28,
   "metadata": {},
   "outputs": [
    {
     "data": {
      "text/plain": [
       "<matplotlib.axes._subplots.AxesSubplot at 0x18bc7000160>"
      ]
     },
     "execution_count": 28,
     "metadata": {},
     "output_type": "execute_result"
    },
    {
     "data": {
      "image/png": "[encoded data removed]",
      "text/plain": [
       "<Figure size 432x288 with 2 Axes>"
      ]
     },
     "metadata": {
      "needs_background": "light"
     },
     "output_type": "display_data"
    }
   ],
   "source": [
    "corr = df.corr()\n",
    "sns.heatmap(corr)"
   ]
  },
  {
   "cell_type": "code",
   "execution_count": 29,
   "metadata": {},
   "outputs": [],
   "source": [
    "from sklearn.metrics import roc_curve\n",
    "from sklearn.metrics import roc_auc_score"
   ]
  },
  {
   "cell_type": "code",
   "execution_count": 30,
   "metadata": {},
   "outputs": [
    {
     "data": {
      "text/plain": [
       "array([0.00455368, 0.95226081, 0.93069462, ..., 0.0250722 , 0.06402389,\n",
       "       0.96913437])"
      ]
     },
     "execution_count": 30,
     "metadata": {},
     "output_type": "execute_result"
    }
   ],
   "source": [
    "y_pred_prob = lg.predict_proba(x_test)[:,1]\n",
    "y_pred_prob"
   ]
  },
  {
   "cell_type": "code",
   "execution_count": 31,
   "metadata": {},
   "outputs": [],
   "source": [
    "fpr,tpr,thresholds=roc_curve(y_test,y_pred_prob)"
   ]
  },
  {
   "cell_type": "code",
   "execution_count": 32,
   "metadata": {},
   "outputs": [
    {
     "data": {
      "text/plain": [
       "array([0.00000000e+00, 0.00000000e+00, 0.00000000e+00, 2.78862242e-04,\n",
       "       2.78862242e-04, 5.57724484e-04, 5.57724484e-04, 8.36586726e-04,\n",
       "       8.36586726e-04, 1.11544897e-03, 1.11544897e-03, 1.39431121e-03,\n",
       "       1.39431121e-03, 1.67317345e-03, 1.67317345e-03, 1.95203569e-03,\n",
       "       1.95203569e-03, 2.23089794e-03, 2.23089794e-03, 2.50976018e-03,\n",
       "       2.50976018e-03, 2.78862242e-03, 2.78862242e-03, 3.06748466e-03,\n",
       "       3.06748466e-03, 3.34634690e-03, 3.34634690e-03, 3.62520915e-03,\n",
       "       3.62520915e-03, 3.90407139e-03, 3.90407139e-03, 4.18293363e-03,\n",
       "       4.18293363e-03, 4.46179587e-03, 4.46179587e-03, 4.74065811e-03,\n",
       "       4.74065811e-03, 5.01952036e-03, 5.01952036e-03, 5.29838260e-03,\n",
       "       5.29838260e-03, 5.57724484e-03, 5.57724484e-03, 5.85610708e-03,\n",
       "       5.85610708e-03, 6.13496933e-03, 6.13496933e-03, 6.41383157e-03,\n",
       "       6.41383157e-03, 6.69269381e-03, 6.69269381e-03, 6.97155605e-03,\n",
       "       6.97155605e-03, 7.25041829e-03, 7.25041829e-03, 7.52928054e-03,\n",
       "       7.52928054e-03, 7.80814278e-03, 7.80814278e-03, 8.08700502e-03,\n",
       "       8.08700502e-03, 8.64472950e-03, 8.64472950e-03, 8.92359175e-03,\n",
       "       8.92359175e-03, 9.20245399e-03, 9.20245399e-03, 9.48131623e-03,\n",
       "       9.48131623e-03, 9.76017847e-03, 9.76017847e-03, 1.00390407e-02,\n",
       "       1.00390407e-02, 1.03179030e-02, 1.03179030e-02, 1.05967652e-02,\n",
       "       1.05967652e-02, 1.08756274e-02, 1.08756274e-02, 1.11544897e-02,\n",
       "       1.11544897e-02, 1.14333519e-02, 1.14333519e-02, 1.17122142e-02,\n",
       "       1.17122142e-02, 1.19910764e-02, 1.19910764e-02, 1.22699387e-02,\n",
       "       1.22699387e-02, 1.25488009e-02, 1.25488009e-02, 1.28276631e-02,\n",
       "       1.28276631e-02, 1.31065254e-02, 1.31065254e-02, 1.33853876e-02,\n",
       "       1.33853876e-02, 1.36642499e-02, 1.36642499e-02, 1.39431121e-02,\n",
       "       1.39431121e-02, 1.42219743e-02, 1.42219743e-02, 1.45008366e-02,\n",
       "       1.45008366e-02, 1.47796988e-02, 1.47796988e-02, 1.50585611e-02,\n",
       "       1.50585611e-02, 1.53374233e-02, 1.53374233e-02, 1.56162856e-02,\n",
       "       1.56162856e-02, 1.58951478e-02, 1.58951478e-02, 1.61740100e-02,\n",
       "       1.61740100e-02, 1.64528723e-02, 1.64528723e-02, 1.67317345e-02,\n",
       "       1.67317345e-02, 1.70105968e-02, 1.70105968e-02, 1.72894590e-02,\n",
       "       1.72894590e-02, 1.75683212e-02, 1.75683212e-02, 1.78471835e-02,\n",
       "       1.78471835e-02, 1.81260457e-02, 1.81260457e-02, 1.84049080e-02,\n",
       "       1.84049080e-02, 1.86837702e-02, 1.86837702e-02, 1.89626325e-02,\n",
       "       1.89626325e-02, 1.92414947e-02, 1.92414947e-02, 1.95203569e-02,\n",
       "       1.95203569e-02, 1.97992192e-02, 1.97992192e-02, 2.00780814e-02,\n",
       "       2.00780814e-02, 2.03569437e-02, 2.03569437e-02, 2.06358059e-02,\n",
       "       2.06358059e-02, 2.17512549e-02, 2.17512549e-02, 2.20301171e-02,\n",
       "       2.20301171e-02, 2.25878416e-02, 2.25878416e-02, 2.28667038e-02,\n",
       "       2.28667038e-02, 2.39821528e-02, 2.39821528e-02, 2.42610151e-02,\n",
       "       2.42610151e-02, 2.45398773e-02, 2.45398773e-02, 2.53764640e-02,\n",
       "       2.53764640e-02, 2.59341885e-02, 2.59341885e-02, 2.67707752e-02,\n",
       "       2.67707752e-02, 2.70496375e-02, 2.70496375e-02, 2.76073620e-02,\n",
       "       2.76073620e-02, 2.84439487e-02, 2.84439487e-02, 2.87228109e-02,\n",
       "       2.87228109e-02, 2.92805354e-02, 2.92805354e-02, 2.98382599e-02,\n",
       "       2.98382599e-02, 3.01171221e-02, 3.01171221e-02, 3.03959844e-02,\n",
       "       3.03959844e-02, 3.06748466e-02, 3.06748466e-02, 3.12325711e-02,\n",
       "       3.12325711e-02, 3.17902956e-02, 3.17902956e-02, 3.23480201e-02,\n",
       "       3.23480201e-02, 3.34634690e-02, 3.34634690e-02, 3.40211935e-02,\n",
       "       3.40211935e-02, 3.45789180e-02, 3.45789180e-02, 3.48577803e-02,\n",
       "       3.48577803e-02, 3.54155047e-02, 3.54155047e-02, 3.59732292e-02,\n",
       "       3.59732292e-02, 3.62520915e-02, 3.62520915e-02, 3.65309537e-02,\n",
       "       3.65309537e-02, 3.68098160e-02, 3.68098160e-02, 3.70886782e-02,\n",
       "       3.70886782e-02, 3.76464027e-02, 3.76464027e-02, 3.79252649e-02,\n",
       "       3.79252649e-02, 3.84829894e-02, 3.84829894e-02, 3.87618516e-02,\n",
       "       3.87618516e-02, 3.90407139e-02, 3.90407139e-02, 3.98773006e-02,\n",
       "       3.98773006e-02, 4.01561629e-02, 4.01561629e-02, 4.04350251e-02,\n",
       "       4.04350251e-02, 4.07138873e-02, 4.07138873e-02, 4.12716118e-02,\n",
       "       4.12716118e-02, 4.15504741e-02, 4.15504741e-02, 4.18293363e-02,\n",
       "       4.18293363e-02, 4.21081985e-02, 4.21081985e-02, 4.23870608e-02,\n",
       "       4.23870608e-02, 4.26659230e-02, 4.26659230e-02, 4.29447853e-02,\n",
       "       4.29447853e-02, 4.32236475e-02, 4.32236475e-02, 4.35025098e-02,\n",
       "       4.35025098e-02, 4.37813720e-02, 4.37813720e-02, 4.40602342e-02,\n",
       "       4.40602342e-02, 4.43390965e-02, 4.43390965e-02, 4.46179587e-02,\n",
       "       4.46179587e-02, 4.48968210e-02, 4.48968210e-02, 4.54545455e-02,\n",
       "       4.54545455e-02, 4.60122699e-02, 4.60122699e-02, 4.62911322e-02,\n",
       "       4.62911322e-02, 4.68488567e-02, 4.68488567e-02, 4.71277189e-02,\n",
       "       4.71277189e-02, 4.74065811e-02, 4.74065811e-02, 4.76854434e-02,\n",
       "       4.76854434e-02, 4.79643056e-02, 4.79643056e-02, 4.82431679e-02,\n",
       "       4.82431679e-02, 4.85220301e-02, 4.85220301e-02, 4.88008924e-02,\n",
       "       4.88008924e-02, 4.96374791e-02, 4.96374791e-02, 5.13106525e-02,\n",
       "       5.13106525e-02, 5.15895148e-02, 5.15895148e-02, 5.18683770e-02,\n",
       "       5.18683770e-02, 5.21472393e-02, 5.21472393e-02, 5.32626882e-02,\n",
       "       5.32626882e-02, 5.38204127e-02, 5.38204127e-02, 5.40992750e-02,\n",
       "       5.40992750e-02, 5.49358617e-02, 5.49358617e-02, 5.57724484e-02,\n",
       "       5.57724484e-02, 5.60513107e-02, 5.60513107e-02, 5.63301729e-02,\n",
       "       5.63301729e-02, 5.68878974e-02, 5.68878974e-02, 5.74456219e-02,\n",
       "       5.74456219e-02, 5.80033463e-02, 5.80033463e-02, 5.85610708e-02,\n",
       "       5.85610708e-02, 5.93976576e-02, 5.93976576e-02, 5.96765198e-02,\n",
       "       5.96765198e-02, 5.99553820e-02, 5.99553820e-02, 6.02342443e-02,\n",
       "       6.02342443e-02, 6.05131065e-02, 6.05131065e-02, 6.10708310e-02,\n",
       "       6.10708310e-02, 6.19074177e-02, 6.19074177e-02, 6.27440045e-02,\n",
       "       6.27440045e-02, 6.30228667e-02, 6.30228667e-02, 6.41383157e-02,\n",
       "       6.41383157e-02, 6.55326269e-02, 6.55326269e-02, 6.60903514e-02,\n",
       "       6.60903514e-02, 6.72058003e-02, 6.72058003e-02, 6.77635248e-02,\n",
       "       6.77635248e-02, 6.83212493e-02, 6.83212493e-02, 6.86001115e-02,\n",
       "       6.86001115e-02, 7.19464584e-02, 7.19464584e-02, 7.27830452e-02,\n",
       "       7.27830452e-02, 7.30619074e-02, 7.30619074e-02, 7.38984941e-02,\n",
       "       7.38984941e-02, 7.61293921e-02, 7.61293921e-02, 7.64082543e-02,\n",
       "       7.64082543e-02, 7.66871166e-02, 7.66871166e-02, 7.89180145e-02,\n",
       "       7.89180145e-02, 8.00334635e-02, 8.00334635e-02, 8.03123257e-02,\n",
       "       8.03123257e-02, 8.17066369e-02, 8.17066369e-02, 8.25432236e-02,\n",
       "       8.25432236e-02, 8.33798104e-02, 8.33798104e-02, 8.42163971e-02,\n",
       "       8.42163971e-02, 8.44952593e-02, 8.44952593e-02, 8.47741216e-02,\n",
       "       8.47741216e-02, 8.61684328e-02, 8.61684328e-02, 8.67261573e-02,\n",
       "       8.67261573e-02, 8.70050195e-02, 8.70050195e-02, 8.83993307e-02,\n",
       "       8.83993307e-02, 8.89570552e-02, 8.89570552e-02, 9.09090909e-02,\n",
       "       9.09090909e-02, 9.14668154e-02, 9.14668154e-02, 9.28611266e-02,\n",
       "       9.28611266e-02, 9.31399888e-02, 9.31399888e-02, 9.45343001e-02,\n",
       "       9.45343001e-02, 9.78806470e-02, 9.78806470e-02, 9.89960959e-02,\n",
       "       9.89960959e-02, 9.95538204e-02, 9.95538204e-02, 1.02900167e-01,\n",
       "       1.02900167e-01, 1.04294479e-01, 1.04294479e-01, 1.05131065e-01,\n",
       "       1.05131065e-01, 1.05688790e-01, 1.05688790e-01, 1.07083101e-01,\n",
       "       1.07083101e-01, 1.09035137e-01, 1.09035137e-01, 1.09592861e-01,\n",
       "       1.09592861e-01, 1.10429448e-01, 1.10429448e-01, 1.12381484e-01,\n",
       "       1.12381484e-01, 1.13218070e-01, 1.13218070e-01, 1.14333519e-01,\n",
       "       1.14333519e-01, 1.16843279e-01, 1.16843279e-01, 1.17401004e-01,\n",
       "       1.17401004e-01, 1.19074177e-01, 1.19074177e-01, 1.19631902e-01,\n",
       "       1.19631902e-01, 1.19910764e-01, 1.19910764e-01, 1.21026213e-01,\n",
       "       1.21026213e-01, 1.22699387e-01, 1.22699387e-01, 1.23814835e-01,\n",
       "       1.23814835e-01, 1.24372560e-01, 1.24372560e-01, 1.25766871e-01,\n",
       "       1.25766871e-01, 1.29392080e-01, 1.29392080e-01, 1.30786392e-01,\n",
       "       1.30786392e-01, 1.32180703e-01, 1.32180703e-01, 1.34132738e-01,\n",
       "       1.34132738e-01, 1.34690463e-01, 1.34690463e-01, 1.35248187e-01,\n",
       "       1.35248187e-01, 1.35805912e-01, 1.35805912e-01, 1.38594534e-01,\n",
       "       1.38594534e-01, 1.44450641e-01, 1.44450641e-01, 1.45008366e-01,\n",
       "       1.45008366e-01, 1.46681539e-01, 1.46681539e-01, 1.46960402e-01,\n",
       "       1.46960402e-01, 1.52816509e-01, 1.52816509e-01, 1.58951478e-01,\n",
       "       1.58951478e-01, 1.67596207e-01, 1.67596207e-01, 1.69827105e-01,\n",
       "       1.69827105e-01, 1.70384830e-01, 1.70384830e-01, 1.73731177e-01,\n",
       "       1.73731177e-01, 1.75125488e-01, 1.75125488e-01, 1.77356386e-01,\n",
       "       1.77356386e-01, 1.83491355e-01, 1.83491355e-01, 1.84885666e-01,\n",
       "       1.84885666e-01, 1.85164529e-01, 1.85164529e-01, 1.99944228e-01,\n",
       "       1.99944228e-01, 2.11098717e-01, 2.11098717e-01, 2.20301171e-01,\n",
       "       2.20301171e-01, 2.29503625e-01, 2.29503625e-01, 2.39821528e-01,\n",
       "       2.39821528e-01, 2.40379253e-01, 2.40379253e-01, 2.41773564e-01,\n",
       "       2.41773564e-01, 2.56274400e-01, 2.56274400e-01, 2.58784161e-01,\n",
       "       2.58784161e-01, 2.74121584e-01, 2.74121584e-01, 2.79141104e-01,\n",
       "       2.79141104e-01, 2.84160625e-01, 2.84160625e-01, 2.98382599e-01,\n",
       "       2.98382599e-01, 2.98940323e-01, 2.98940323e-01, 3.02286670e-01,\n",
       "       3.02286670e-01, 3.06748466e-01, 3.06748466e-01, 3.29057446e-01,\n",
       "       3.29057446e-01, 3.43279420e-01, 3.43279420e-01, 3.51366425e-01,\n",
       "       3.51366425e-01, 3.63357501e-01, 3.63357501e-01, 3.66146124e-01,\n",
       "       3.66146124e-01, 3.68655884e-01, 3.68655884e-01, 3.87897379e-01,\n",
       "       3.87897379e-01, 3.90407139e-01, 3.90407139e-01, 3.94032348e-01,\n",
       "       3.94032348e-01, 4.08533185e-01, 4.08533185e-01, 4.15504741e-01,\n",
       "       4.15504741e-01, 4.17735639e-01, 4.17735639e-01, 4.27774679e-01,\n",
       "       4.27774679e-01, 4.30563302e-01, 4.30563302e-01, 4.31121026e-01,\n",
       "       4.31121026e-01, 4.38371445e-01, 4.38371445e-01, 4.53430006e-01,\n",
       "       4.53430006e-01, 4.54824317e-01, 4.54824317e-01, 4.56218628e-01,\n",
       "       4.56218628e-01, 4.56497490e-01, 4.56497490e-01, 4.75738985e-01,\n",
       "       4.75738985e-01, 4.76575572e-01, 4.76575572e-01, 4.78527607e-01,\n",
       "       4.78527607e-01, 4.80479643e-01, 4.80479643e-01, 4.93307306e-01,\n",
       "       4.93307306e-01, 4.97769102e-01, 4.97769102e-01, 4.99442276e-01,\n",
       "       4.99442276e-01, 5.02230898e-01, 5.02230898e-01, 5.16174010e-01,\n",
       "       5.16174010e-01, 5.40713887e-01, 5.40713887e-01, 5.45733408e-01,\n",
       "       5.45733408e-01, 5.46291132e-01, 5.46291132e-01, 5.67763525e-01,\n",
       "       5.67763525e-01, 5.71388734e-01, 5.71388734e-01, 5.73061907e-01,\n",
       "       5.73061907e-01, 6.09035137e-01, 6.09035137e-01, 6.33017289e-01,\n",
       "       6.33017289e-01, 7.50976018e-01, 7.50976018e-01, 7.61572783e-01,\n",
       "       7.61572783e-01, 7.76910206e-01, 7.76910206e-01, 7.84439487e-01,\n",
       "       7.84439487e-01, 7.95872839e-01, 7.95872839e-01, 8.00055772e-01,\n",
       "       8.00055772e-01, 8.13162298e-01, 8.13162298e-01, 1.00000000e+00])"
      ]
     },
     "execution_count": 32,
     "metadata": {},
     "output_type": "execute_result"
    }
   ],
   "source": [
    "fpr"
   ]
  },
  {
   "cell_type": "code",
   "execution_count": 33,
   "metadata": {},
   "outputs": [
    {
     "data": {
      "text/plain": [
       "array([0.00000000e+00, 3.01204819e-04, 2.37349398e-01, 2.37349398e-01,\n",
       "       2.51204819e-01, 2.51204819e-01, 2.56325301e-01, 2.56325301e-01,\n",
       "       2.67168675e-01, 2.67168675e-01, 2.77710843e-01, 2.77710843e-01,\n",
       "       2.80722892e-01, 2.80722892e-01, 2.88855422e-01, 2.88855422e-01,\n",
       "       2.93674699e-01, 2.93674699e-01, 2.96987952e-01, 2.96987952e-01,\n",
       "       2.98795181e-01, 2.98795181e-01, 3.21987952e-01, 3.21987952e-01,\n",
       "       3.28614458e-01, 3.28614458e-01, 3.32530120e-01, 3.32530120e-01,\n",
       "       3.35843373e-01, 3.35843373e-01, 3.38855422e-01, 3.38855422e-01,\n",
       "       3.39457831e-01, 3.39457831e-01, 3.49096386e-01, 3.49096386e-01,\n",
       "       3.54819277e-01, 3.54819277e-01, 3.56024096e-01, 3.56024096e-01,\n",
       "       3.59337349e-01, 3.59337349e-01, 3.62349398e-01, 3.62349398e-01,\n",
       "       3.63554217e-01, 3.63554217e-01, 3.65662651e-01, 3.65662651e-01,\n",
       "       3.68975904e-01, 3.68975904e-01, 3.72891566e-01, 3.72891566e-01,\n",
       "       3.80421687e-01, 3.80421687e-01, 3.91867470e-01, 3.91867470e-01,\n",
       "       3.93373494e-01, 3.93373494e-01, 3.93975904e-01, 3.93975904e-01,\n",
       "       3.95481928e-01, 3.95481928e-01, 4.00301205e-01, 4.00301205e-01,\n",
       "       4.00602410e-01, 4.00602410e-01, 4.03915663e-01, 4.03915663e-01,\n",
       "       4.04518072e-01, 4.04518072e-01, 4.08433735e-01, 4.08433735e-01,\n",
       "       4.08734940e-01, 4.08734940e-01, 4.09036145e-01, 4.09036145e-01,\n",
       "       4.12650602e-01, 4.12650602e-01, 4.12951807e-01, 4.12951807e-01,\n",
       "       4.14457831e-01, 4.14457831e-01, 4.16265060e-01, 4.16265060e-01,\n",
       "       4.18072289e-01, 4.18072289e-01, 4.20481928e-01, 4.20481928e-01,\n",
       "       4.26807229e-01, 4.26807229e-01, 4.30722892e-01, 4.30722892e-01,\n",
       "       4.40662651e-01, 4.40662651e-01, 4.41566265e-01, 4.41566265e-01,\n",
       "       4.44277108e-01, 4.44277108e-01, 4.48493976e-01, 4.48493976e-01,\n",
       "       4.50903614e-01, 4.50903614e-01, 4.51204819e-01, 4.51204819e-01,\n",
       "       4.55722892e-01, 4.55722892e-01, 4.60240964e-01, 4.60240964e-01,\n",
       "       4.61746988e-01, 4.61746988e-01, 4.75903614e-01, 4.75903614e-01,\n",
       "       4.80421687e-01, 4.80421687e-01, 5.04819277e-01, 5.04819277e-01,\n",
       "       5.17771084e-01, 5.17771084e-01, 5.24096386e-01, 5.24096386e-01,\n",
       "       5.39156627e-01, 5.39156627e-01, 5.69578313e-01, 5.69578313e-01,\n",
       "       5.87048193e-01, 5.87048193e-01, 8.31927711e-01, 8.31927711e-01,\n",
       "       8.34337349e-01, 8.34337349e-01, 8.35240964e-01, 8.35240964e-01,\n",
       "       8.35843373e-01, 8.35843373e-01, 8.36445783e-01, 8.36445783e-01,\n",
       "       8.38554217e-01, 8.38554217e-01, 8.39156627e-01, 8.39156627e-01,\n",
       "       8.40060241e-01, 8.40060241e-01, 8.41867470e-01, 8.41867470e-01,\n",
       "       8.42469880e-01, 8.42469880e-01, 8.42771084e-01, 8.42771084e-01,\n",
       "       8.43373494e-01, 8.43373494e-01, 8.44879518e-01, 8.44879518e-01,\n",
       "       8.45180723e-01, 8.45180723e-01, 8.45481928e-01, 8.45481928e-01,\n",
       "       8.46385542e-01, 8.46385542e-01, 8.47590361e-01, 8.47590361e-01,\n",
       "       8.47891566e-01, 8.47891566e-01, 8.48795181e-01, 8.48795181e-01,\n",
       "       8.50301205e-01, 8.50301205e-01, 8.50903614e-01, 8.50903614e-01,\n",
       "       8.52108434e-01, 8.52108434e-01, 8.52409639e-01, 8.52409639e-01,\n",
       "       8.52710843e-01, 8.52710843e-01, 8.53915663e-01, 8.53915663e-01,\n",
       "       8.54819277e-01, 8.54819277e-01, 8.56325301e-01, 8.56325301e-01,\n",
       "       8.56626506e-01, 8.56626506e-01, 8.57831325e-01, 8.57831325e-01,\n",
       "       8.58132530e-01, 8.58132530e-01, 8.58433735e-01, 8.58433735e-01,\n",
       "       8.59337349e-01, 8.59337349e-01, 8.60542169e-01, 8.60542169e-01,\n",
       "       8.61144578e-01, 8.61144578e-01, 8.63253012e-01, 8.63253012e-01,\n",
       "       8.64759036e-01, 8.64759036e-01, 8.65060241e-01, 8.65060241e-01,\n",
       "       8.66265060e-01, 8.66265060e-01, 8.66566265e-01, 8.66566265e-01,\n",
       "       8.67168675e-01, 8.67168675e-01, 8.67771084e-01, 8.67771084e-01,\n",
       "       8.68975904e-01, 8.68975904e-01, 8.69879518e-01, 8.69879518e-01,\n",
       "       8.71385542e-01, 8.71385542e-01, 8.71987952e-01, 8.71987952e-01,\n",
       "       8.72891566e-01, 8.72891566e-01, 8.75602410e-01, 8.75602410e-01,\n",
       "       8.75903614e-01, 8.75903614e-01, 8.76807229e-01, 8.76807229e-01,\n",
       "       8.77108434e-01, 8.77108434e-01, 8.78915663e-01, 8.78915663e-01,\n",
       "       8.79819277e-01, 8.79819277e-01, 8.83433735e-01, 8.83433735e-01,\n",
       "       8.84638554e-01, 8.84638554e-01, 8.86144578e-01, 8.86144578e-01,\n",
       "       8.87349398e-01, 8.87349398e-01, 8.93072289e-01, 8.93072289e-01,\n",
       "       8.94879518e-01, 8.94879518e-01, 8.95783133e-01, 8.95783133e-01,\n",
       "       8.97891566e-01, 8.97891566e-01, 9.00000000e-01, 9.00000000e-01,\n",
       "       9.04518072e-01, 9.04518072e-01, 9.05722892e-01, 9.05722892e-01,\n",
       "       9.11746988e-01, 9.11746988e-01, 9.12650602e-01, 9.12650602e-01,\n",
       "       9.12951807e-01, 9.12951807e-01, 9.14156627e-01, 9.14156627e-01,\n",
       "       9.17771084e-01, 9.17771084e-01, 9.18674699e-01, 9.18674699e-01,\n",
       "       9.19879518e-01, 9.19879518e-01, 9.24397590e-01, 9.24397590e-01,\n",
       "       9.26204819e-01, 9.26204819e-01, 9.26807229e-01, 9.26807229e-01,\n",
       "       9.28313253e-01, 9.28313253e-01, 9.28915663e-01, 9.28915663e-01,\n",
       "       9.29819277e-01, 9.29819277e-01, 9.30120482e-01, 9.30120482e-01,\n",
       "       9.32831325e-01, 9.32831325e-01, 9.33734940e-01, 9.33734940e-01,\n",
       "       9.34036145e-01, 9.34036145e-01, 9.35240964e-01, 9.35240964e-01,\n",
       "       9.35843373e-01, 9.35843373e-01, 9.36144578e-01, 9.36144578e-01,\n",
       "       9.36746988e-01, 9.36746988e-01, 9.38855422e-01, 9.38855422e-01,\n",
       "       9.39156627e-01, 9.39156627e-01, 9.39457831e-01, 9.39457831e-01,\n",
       "       9.39759036e-01, 9.39759036e-01, 9.40963855e-01, 9.40963855e-01,\n",
       "       9.41566265e-01, 9.41566265e-01, 9.42469880e-01, 9.42469880e-01,\n",
       "       9.43072289e-01, 9.43072289e-01, 9.43373494e-01, 9.43373494e-01,\n",
       "       9.43674699e-01, 9.43674699e-01, 9.44277108e-01, 9.44277108e-01,\n",
       "       9.44578313e-01, 9.44578313e-01, 9.44879518e-01, 9.44879518e-01,\n",
       "       9.45481928e-01, 9.45481928e-01, 9.46385542e-01, 9.46385542e-01,\n",
       "       9.46686747e-01, 9.46686747e-01, 9.47289157e-01, 9.47289157e-01,\n",
       "       9.47590361e-01, 9.47590361e-01, 9.47891566e-01, 9.47891566e-01,\n",
       "       9.48795181e-01, 9.48795181e-01, 9.49096386e-01, 9.49096386e-01,\n",
       "       9.49397590e-01, 9.49397590e-01, 9.49698795e-01, 9.49698795e-01,\n",
       "       9.50000000e-01, 9.50000000e-01, 9.50903614e-01, 9.50903614e-01,\n",
       "       9.51506024e-01, 9.51506024e-01, 9.51807229e-01, 9.51807229e-01,\n",
       "       9.52108434e-01, 9.52108434e-01, 9.52409639e-01, 9.52409639e-01,\n",
       "       9.52710843e-01, 9.52710843e-01, 9.53012048e-01, 9.53012048e-01,\n",
       "       9.53915663e-01, 9.53915663e-01, 9.55120482e-01, 9.55120482e-01,\n",
       "       9.55722892e-01, 9.55722892e-01, 9.56927711e-01, 9.56927711e-01,\n",
       "       9.57228916e-01, 9.57228916e-01, 9.57530120e-01, 9.57530120e-01,\n",
       "       9.57831325e-01, 9.57831325e-01, 9.58132530e-01, 9.58132530e-01,\n",
       "       9.58433735e-01, 9.58433735e-01, 9.58734940e-01, 9.58734940e-01,\n",
       "       9.59036145e-01, 9.59036145e-01, 9.59337349e-01, 9.59337349e-01,\n",
       "       9.59638554e-01, 9.59638554e-01, 9.60240964e-01, 9.60240964e-01,\n",
       "       9.60542169e-01, 9.60542169e-01, 9.61144578e-01, 9.61144578e-01,\n",
       "       9.61445783e-01, 9.61445783e-01, 9.61746988e-01, 9.61746988e-01,\n",
       "       9.63253012e-01, 9.63253012e-01, 9.63554217e-01, 9.63554217e-01,\n",
       "       9.63855422e-01, 9.63855422e-01, 9.64156627e-01, 9.64156627e-01,\n",
       "       9.64759036e-01, 9.64759036e-01, 9.65060241e-01, 9.65060241e-01,\n",
       "       9.65361446e-01, 9.65361446e-01, 9.65662651e-01, 9.65662651e-01,\n",
       "       9.66265060e-01, 9.66265060e-01, 9.66566265e-01, 9.66566265e-01,\n",
       "       9.66867470e-01, 9.66867470e-01, 9.67469880e-01, 9.67469880e-01,\n",
       "       9.68072289e-01, 9.68072289e-01, 9.68373494e-01, 9.68373494e-01,\n",
       "       9.68674699e-01, 9.68674699e-01, 9.69578313e-01, 9.69578313e-01,\n",
       "       9.69879518e-01, 9.69879518e-01, 9.70180723e-01, 9.70180723e-01,\n",
       "       9.70481928e-01, 9.70481928e-01, 9.70783133e-01, 9.70783133e-01,\n",
       "       9.71084337e-01, 9.71084337e-01, 9.71385542e-01, 9.71385542e-01,\n",
       "       9.71686747e-01, 9.71686747e-01, 9.71987952e-01, 9.71987952e-01,\n",
       "       9.72289157e-01, 9.72289157e-01, 9.72590361e-01, 9.72590361e-01,\n",
       "       9.73192771e-01, 9.73192771e-01, 9.73493976e-01, 9.73493976e-01,\n",
       "       9.73795181e-01, 9.73795181e-01, 9.74096386e-01, 9.74096386e-01,\n",
       "       9.74397590e-01, 9.74397590e-01, 9.74698795e-01, 9.74698795e-01,\n",
       "       9.75000000e-01, 9.75000000e-01, 9.75301205e-01, 9.75301205e-01,\n",
       "       9.75602410e-01, 9.75602410e-01, 9.75903614e-01, 9.75903614e-01,\n",
       "       9.76506024e-01, 9.76506024e-01, 9.76807229e-01, 9.76807229e-01,\n",
       "       9.77409639e-01, 9.77409639e-01, 9.77710843e-01, 9.77710843e-01,\n",
       "       9.78313253e-01, 9.78313253e-01, 9.78614458e-01, 9.78614458e-01,\n",
       "       9.78915663e-01, 9.78915663e-01, 9.79216867e-01, 9.79216867e-01,\n",
       "       9.79518072e-01, 9.79518072e-01, 9.79819277e-01, 9.79819277e-01,\n",
       "       9.80120482e-01, 9.80120482e-01, 9.80722892e-01, 9.80722892e-01,\n",
       "       9.81024096e-01, 9.81024096e-01, 9.81325301e-01, 9.81325301e-01,\n",
       "       9.81927711e-01, 9.81927711e-01, 9.82228916e-01, 9.82228916e-01,\n",
       "       9.82530120e-01, 9.82530120e-01, 9.82831325e-01, 9.82831325e-01,\n",
       "       9.83132530e-01, 9.83132530e-01, 9.83433735e-01, 9.83433735e-01,\n",
       "       9.83734940e-01, 9.83734940e-01, 9.84036145e-01, 9.84036145e-01,\n",
       "       9.84337349e-01, 9.84337349e-01, 9.84638554e-01, 9.84638554e-01,\n",
       "       9.84939759e-01, 9.84939759e-01, 9.85240964e-01, 9.85240964e-01,\n",
       "       9.85542169e-01, 9.85542169e-01, 9.85843373e-01, 9.85843373e-01,\n",
       "       9.86144578e-01, 9.86144578e-01, 9.86445783e-01, 9.86445783e-01,\n",
       "       9.86746988e-01, 9.86746988e-01, 9.87048193e-01, 9.87048193e-01,\n",
       "       9.87349398e-01, 9.87349398e-01, 9.87951807e-01, 9.87951807e-01,\n",
       "       9.88253012e-01, 9.88253012e-01, 9.88554217e-01, 9.88554217e-01,\n",
       "       9.88855422e-01, 9.88855422e-01, 9.89156627e-01, 9.89156627e-01,\n",
       "       9.89457831e-01, 9.89457831e-01, 9.89759036e-01, 9.89759036e-01,\n",
       "       9.90060241e-01, 9.90060241e-01, 9.90361446e-01, 9.90361446e-01,\n",
       "       9.90662651e-01, 9.90662651e-01, 9.90963855e-01, 9.90963855e-01,\n",
       "       9.91265060e-01, 9.91265060e-01, 9.91566265e-01, 9.91566265e-01,\n",
       "       9.91867470e-01, 9.91867470e-01, 9.92168675e-01, 9.92168675e-01,\n",
       "       9.92469880e-01, 9.92469880e-01, 9.92771084e-01, 9.92771084e-01,\n",
       "       9.93072289e-01, 9.93072289e-01, 9.93373494e-01, 9.93373494e-01,\n",
       "       9.93674699e-01, 9.93674699e-01, 9.93975904e-01, 9.93975904e-01,\n",
       "       9.94277108e-01, 9.94277108e-01, 9.94578313e-01, 9.94578313e-01,\n",
       "       9.94879518e-01, 9.94879518e-01, 9.95180723e-01, 9.95180723e-01,\n",
       "       9.95481928e-01, 9.95481928e-01, 9.95783133e-01, 9.95783133e-01,\n",
       "       9.96084337e-01, 9.96084337e-01, 9.96385542e-01, 9.96385542e-01,\n",
       "       9.96686747e-01, 9.96686747e-01, 9.96987952e-01, 9.96987952e-01,\n",
       "       9.97289157e-01, 9.97289157e-01, 9.97590361e-01, 9.97590361e-01,\n",
       "       9.97891566e-01, 9.97891566e-01, 9.98192771e-01, 9.98192771e-01,\n",
       "       9.98493976e-01, 9.98493976e-01, 9.98795181e-01, 9.98795181e-01,\n",
       "       9.99096386e-01, 9.99096386e-01, 9.99397590e-01, 9.99397590e-01,\n",
       "       9.99698795e-01, 9.99698795e-01, 1.00000000e+00, 1.00000000e+00])"
      ]
     },
     "execution_count": 33,
     "metadata": {},
     "output_type": "execute_result"
    }
   ],
   "source": [
    "tpr"
   ]
  },
  {
   "cell_type": "code",
   "execution_count": 34,
   "metadata": {},
   "outputs": [
    {
     "data": {
      "text/plain": [
       "array([1.99982096e+00, 9.99820957e-01, 9.94071621e-01, 9.94067875e-01,\n",
       "       9.93625580e-01, 9.93590309e-01, 9.93407109e-01, 9.93401569e-01,\n",
       "       9.92908223e-01, 9.92870746e-01, 9.92448129e-01, 9.92420564e-01,\n",
       "       9.92237949e-01, 9.92222701e-01, 9.91851023e-01, 9.91837939e-01,\n",
       "       9.91609570e-01, 9.91585648e-01, 9.91420281e-01, 9.91366179e-01,\n",
       "       9.91223407e-01, 9.91182444e-01, 9.89583580e-01, 9.89577882e-01,\n",
       "       9.89034350e-01, 9.89028355e-01, 9.88739848e-01, 9.88726648e-01,\n",
       "       9.88448828e-01, 9.88433478e-01, 9.88161649e-01, 9.88132776e-01,\n",
       "       9.88033694e-01, 9.88010133e-01, 9.87091858e-01, 9.87051241e-01,\n",
       "       9.86683648e-01, 9.86672533e-01, 9.86521758e-01, 9.86442392e-01,\n",
       "       9.86148663e-01, 9.86090655e-01, 9.85732244e-01, 9.85729924e-01,\n",
       "       9.85634051e-01, 9.85608224e-01, 9.85424589e-01, 9.85338859e-01,\n",
       "       9.85021585e-01, 9.84958928e-01, 9.84571812e-01, 9.84569306e-01,\n",
       "       9.83572941e-01, 9.83540744e-01, 9.82286306e-01, 9.82230840e-01,\n",
       "       9.81917131e-01, 9.81896516e-01, 9.81853028e-01, 9.81822648e-01,\n",
       "       9.81517653e-01, 9.81399608e-01, 9.80998730e-01, 9.80949770e-01,\n",
       "       9.80944700e-01, 9.80919572e-01, 9.80430559e-01, 9.80427394e-01,\n",
       "       9.80383368e-01, 9.80378737e-01, 9.79936420e-01, 9.79925768e-01,\n",
       "       9.79913081e-01, 9.79893979e-01, 9.79835207e-01, 9.79808873e-01,\n",
       "       9.79461331e-01, 9.79408493e-01, 9.79403021e-01, 9.79375902e-01,\n",
       "       9.79227170e-01, 9.79091999e-01, 9.78848180e-01, 9.78844765e-01,\n",
       "       9.78655132e-01, 9.78553710e-01, 9.78289785e-01, 9.78208549e-01,\n",
       "       9.77519871e-01, 9.77403879e-01, 9.76831190e-01, 9.76823157e-01,\n",
       "       9.75226795e-01, 9.75205382e-01, 9.75128722e-01, 9.75104904e-01,\n",
       "       9.74613698e-01, 9.74569629e-01, 9.74013145e-01, 9.73918010e-01,\n",
       "       9.73379909e-01, 9.73212041e-01, 9.73148262e-01, 9.73141970e-01,\n",
       "       9.72555375e-01, 9.72526617e-01, 9.71971667e-01, 9.71824162e-01,\n",
       "       9.71577992e-01, 9.71394501e-01, 9.69134365e-01, 9.69104494e-01,\n",
       "       9.68328275e-01, 9.68317391e-01, 9.63721668e-01, 9.63716788e-01,\n",
       "       9.60913864e-01, 9.60891934e-01, 9.59807305e-01, 9.59779329e-01,\n",
       "       9.56781393e-01, 9.56661706e-01, 9.50737418e-01, 9.50644094e-01,\n",
       "       9.46985254e-01, 9.46857579e-01, 8.46358015e-01, 8.45518229e-01,\n",
       "       8.40925450e-01, 8.39789470e-01, 8.39046222e-01, 8.38413570e-01,\n",
       "       8.38045237e-01, 8.36264518e-01, 8.35037296e-01, 8.34864298e-01,\n",
       "       8.30136123e-01, 8.28820440e-01, 8.27360930e-01, 8.25104409e-01,\n",
       "       8.23032837e-01, 8.19298697e-01, 8.16600006e-01, 8.15421997e-01,\n",
       "       8.11874701e-01, 8.08829503e-01, 8.08693085e-01, 8.07248744e-01,\n",
       "       8.04935721e-01, 8.02894359e-01, 7.99785987e-01, 7.98752174e-01,\n",
       "       7.97701993e-01, 7.96228493e-01, 7.96052423e-01, 7.94570003e-01,\n",
       "       7.93843774e-01, 7.90298570e-01, 7.87490171e-01, 7.87401479e-01,\n",
       "       7.86913403e-01, 7.83047496e-01, 7.80836115e-01, 7.78324763e-01,\n",
       "       7.74160306e-01, 7.71358701e-01, 7.67451131e-01, 7.64918723e-01,\n",
       "       7.61836159e-01, 7.59263679e-01, 7.59035419e-01, 7.54484969e-01,\n",
       "       7.53879080e-01, 7.52251652e-01, 7.49408307e-01, 7.47389566e-01,\n",
       "       7.44894698e-01, 7.44458996e-01, 7.40203145e-01, 7.39144512e-01,\n",
       "       7.38857150e-01, 7.37174777e-01, 7.34209710e-01, 7.34106289e-01,\n",
       "       7.34101024e-01, 7.32112298e-01, 7.31527356e-01, 7.31390351e-01,\n",
       "       7.29521151e-01, 7.29365229e-01, 7.26466830e-01, 7.26257828e-01,\n",
       "       7.25290116e-01, 7.23553042e-01, 7.18731468e-01, 7.18328438e-01,\n",
       "       7.15655748e-01, 7.15494951e-01, 7.14598599e-01, 7.13415876e-01,\n",
       "       7.10635358e-01, 7.09846591e-01, 7.09539638e-01, 7.07743100e-01,\n",
       "       7.05346922e-01, 7.04468751e-01, 7.04116357e-01, 7.02342621e-01,\n",
       "       6.99581684e-01, 6.99065444e-01, 6.94398681e-01, 6.93574040e-01,\n",
       "       6.88816683e-01, 6.87680448e-01, 6.86636688e-01, 6.85068655e-01,\n",
       "       6.84439735e-01, 6.79438961e-01, 6.71920940e-01, 6.69955441e-01,\n",
       "       6.69945508e-01, 6.69939743e-01, 6.65161499e-01, 6.63811921e-01,\n",
       "       6.63458687e-01, 6.61513099e-01, 6.58044857e-01, 6.57991943e-01,\n",
       "       6.56174537e-01, 6.55673968e-01, 6.47110323e-01, 6.45853843e-01,\n",
       "       6.43567067e-01, 6.43519410e-01, 6.39967142e-01, 6.39891631e-01,\n",
       "       6.37669019e-01, 6.37539952e-01, 6.27592288e-01, 6.27496470e-01,\n",
       "       6.23042550e-01, 6.22546267e-01, 6.21502808e-01, 6.21406368e-01,\n",
       "       6.17077266e-01, 6.16424705e-01, 6.11485265e-01, 6.09881896e-01,\n",
       "       5.95458796e-01, 5.95452516e-01, 5.89187823e-01, 5.89181512e-01,\n",
       "       5.66821953e-01, 5.66417459e-01, 5.63039465e-01, 5.61183227e-01,\n",
       "       5.60795107e-01, 5.60028933e-01, 5.55998512e-01, 5.54778198e-01,\n",
       "       5.45157239e-01, 5.44081415e-01, 5.42125266e-01, 5.41552320e-01,\n",
       "       5.39594502e-01, 5.37632432e-01, 5.24356157e-01, 5.24333922e-01,\n",
       "       5.20092223e-01, 5.17853142e-01, 5.15449866e-01, 5.14922216e-01,\n",
       "       5.10420213e-01, 5.08433423e-01, 5.07079760e-01, 5.05268605e-01,\n",
       "       5.04286170e-01, 5.03345773e-01, 5.02553549e-01, 4.98776376e-01,\n",
       "       4.88313049e-01, 4.87975903e-01, 4.87240005e-01, 4.79990559e-01,\n",
       "       4.79192600e-01, 4.78945831e-01, 4.74971190e-01, 4.74912552e-01,\n",
       "       4.72430460e-01, 4.70785582e-01, 4.70482782e-01, 4.64320589e-01,\n",
       "       4.61959016e-01, 4.61713254e-01, 4.53346971e-01, 4.51478717e-01,\n",
       "       4.51088476e-01, 4.47493607e-01, 4.47272200e-01, 4.44156805e-01,\n",
       "       4.44024889e-01, 4.43595775e-01, 4.41510492e-01, 4.41081881e-01,\n",
       "       4.38224957e-01, 4.36735255e-01, 4.35476577e-01, 4.34410475e-01,\n",
       "       4.33759538e-01, 4.31908228e-01, 4.31521595e-01, 4.30357607e-01,\n",
       "       4.30238251e-01, 4.28040978e-01, 4.27741861e-01, 4.25882627e-01,\n",
       "       4.25839701e-01, 4.25547815e-01, 4.24527438e-01, 4.23608676e-01,\n",
       "       4.21754015e-01, 4.21747406e-01, 4.16073579e-01, 4.15020058e-01,\n",
       "       4.14637508e-01, 4.11246360e-01, 4.10898769e-01, 4.08729411e-01,\n",
       "       4.08642702e-01, 4.06599212e-01, 4.06556854e-01, 4.02519955e-01,\n",
       "       3.98325280e-01, 3.92172967e-01, 3.91844310e-01, 3.90021240e-01,\n",
       "       3.89958104e-01, 3.86591444e-01, 3.86006537e-01, 3.85969171e-01,\n",
       "       3.80501614e-01, 3.80183598e-01, 3.79464914e-01, 3.78860605e-01,\n",
       "       3.78010834e-01, 3.70320147e-01, 3.69803869e-01, 3.66869915e-01,\n",
       "       3.61977459e-01, 3.61665886e-01, 3.61299331e-01, 3.60369866e-01,\n",
       "       3.59545614e-01, 3.53942901e-01, 3.53831574e-01, 3.52200690e-01,\n",
       "       3.50059489e-01, 3.49811810e-01, 3.45939234e-01, 3.36833843e-01,\n",
       "       3.35901801e-01, 3.32902640e-01, 3.30536964e-01, 3.30422307e-01,\n",
       "       3.28206256e-01, 3.25129366e-01, 3.25003716e-01, 3.23045342e-01,\n",
       "       3.23006805e-01, 3.21558957e-01, 3.21120708e-01, 3.19457165e-01,\n",
       "       3.19396147e-01, 3.19095279e-01, 3.19078226e-01, 3.15966116e-01,\n",
       "       3.13137876e-01, 3.08252791e-01, 3.08150598e-01, 3.07960850e-01,\n",
       "       3.07838808e-01, 3.06701935e-01, 3.05899567e-01, 3.02453935e-01,\n",
       "       3.02394722e-01, 3.01207734e-01, 2.96873933e-01, 2.91590399e-01,\n",
       "       2.91491402e-01, 2.90669438e-01, 2.89612054e-01, 2.83799921e-01,\n",
       "       2.80577138e-01, 2.79783197e-01, 2.79338452e-01, 2.76657622e-01,\n",
       "       2.75724678e-01, 2.68963510e-01, 2.68941589e-01, 2.65720267e-01,\n",
       "       2.65122909e-01, 2.64177239e-01, 2.63643325e-01, 2.58082852e-01,\n",
       "       2.57815560e-01, 2.56079993e-01, 2.55405697e-01, 2.53943481e-01,\n",
       "       2.53625040e-01, 2.52490598e-01, 2.51370291e-01, 2.46131025e-01,\n",
       "       2.44452848e-01, 2.42220567e-01, 2.40606319e-01, 2.39658308e-01,\n",
       "       2.37855406e-01, 2.35052775e-01, 2.34935132e-01, 2.32346141e-01,\n",
       "       2.31711101e-01, 2.30600871e-01, 2.30092009e-01, 2.28098366e-01,\n",
       "       2.27731340e-01, 2.21856960e-01, 2.21221828e-01, 2.21082572e-01,\n",
       "       2.20969901e-01, 2.18241425e-01, 2.18132331e-01, 2.17173130e-01,\n",
       "       2.16581373e-01, 2.16507687e-01, 2.16339191e-01, 2.14335132e-01,\n",
       "       2.14320733e-01, 2.13646049e-01, 2.13231206e-01, 2.12134831e-01,\n",
       "       2.11449929e-01, 2.09750365e-01, 2.09646070e-01, 2.08732191e-01,\n",
       "       2.07850297e-01, 2.01698249e-01, 2.01215721e-01, 2.00062300e-01,\n",
       "       1.99661901e-01, 1.96982732e-01, 1.96797414e-01, 1.93451843e-01,\n",
       "       1.92257780e-01, 1.91866704e-01, 1.91442777e-01, 1.90736086e-01,\n",
       "       1.90609263e-01, 1.90258821e-01, 1.90035463e-01, 1.87743914e-01,\n",
       "       1.87138215e-01, 1.80899175e-01, 1.80448028e-01, 1.80285378e-01,\n",
       "       1.79456439e-01, 1.78505112e-01, 1.78332082e-01, 1.78268449e-01,\n",
       "       1.77928194e-01, 1.72527744e-01, 1.72347142e-01, 1.68358745e-01,\n",
       "       1.68182670e-01, 1.62221587e-01, 1.61515874e-01, 1.60304462e-01,\n",
       "       1.60092849e-01, 1.59837908e-01, 1.59722239e-01, 1.57574647e-01,\n",
       "       1.57563297e-01, 1.57098621e-01, 1.56704755e-01, 1.55528537e-01,\n",
       "       1.55302475e-01, 1.51233794e-01, 1.50870207e-01, 1.50034999e-01,\n",
       "       1.49705924e-01, 1.49598313e-01, 1.49541036e-01, 1.40501921e-01,\n",
       "       1.40299800e-01, 1.35146095e-01, 1.35145099e-01, 1.31187535e-01,\n",
       "       1.31163392e-01, 1.27973439e-01, 1.27943455e-01, 1.22692985e-01,\n",
       "       1.22565984e-01, 1.22513870e-01, 1.22408747e-01, 1.22108465e-01,\n",
       "       1.22105170e-01, 1.15438646e-01, 1.15301909e-01, 1.14402075e-01,\n",
       "       1.14282537e-01, 1.08868324e-01, 1.08854790e-01, 1.07623799e-01,\n",
       "       1.07589653e-01, 1.05935187e-01, 1.05882627e-01, 1.01900854e-01,\n",
       "       1.01782620e-01, 1.01578016e-01, 1.01524279e-01, 1.00941858e-01,\n",
       "       1.00934501e-01, 9.99748860e-02, 9.99721209e-02, 9.39633443e-02,\n",
       "       9.39425197e-02, 8.97928698e-02, 8.97466222e-02, 8.71343416e-02,\n",
       "       8.70625663e-02, 8.37580025e-02, 8.34577103e-02, 8.28129018e-02,\n",
       "       8.27700426e-02, 8.22853574e-02, 8.22792357e-02, 7.78645891e-02,\n",
       "       7.76883921e-02, 7.73761300e-02, 7.72251812e-02, 7.64869128e-02,\n",
       "       7.64696345e-02, 7.31285775e-02, 7.29912852e-02, 7.15439865e-02,\n",
       "       7.14729575e-02, 7.08507471e-02, 7.07693727e-02, 6.84685750e-02,\n",
       "       6.84651863e-02, 6.79407466e-02, 6.78919021e-02, 6.78003556e-02,\n",
       "       6.77890485e-02, 6.63775423e-02, 6.63711873e-02, 6.33270171e-02,\n",
       "       6.33206884e-02, 6.30836468e-02, 6.30283979e-02, 6.27854806e-02,\n",
       "       6.26919367e-02, 6.26908101e-02, 6.26466589e-02, 5.88573506e-02,\n",
       "       5.88540277e-02, 5.87696754e-02, 5.87640029e-02, 5.82953629e-02,\n",
       "       5.82668693e-02, 5.80029834e-02, 5.79121866e-02, 5.54420190e-02,\n",
       "       5.54410145e-02, 5.46976068e-02, 5.46000357e-02, 5.43190935e-02,\n",
       "       5.42663876e-02, 5.38036636e-02, 5.37223854e-02, 5.15628811e-02,\n",
       "       5.14996280e-02, 4.79754194e-02, 4.79753113e-02, 4.76212378e-02,\n",
       "       4.75648359e-02, 4.74993021e-02, 4.74912081e-02, 4.45430517e-02,\n",
       "       4.45396463e-02, 4.41415707e-02, 4.40886057e-02, 4.38570430e-02,\n",
       "       4.38162135e-02, 3.86909545e-02, 3.86870628e-02, 3.58934867e-02,\n",
       "       3.58914821e-02, 2.43611203e-02, 2.42984974e-02, 2.33917887e-02,\n",
       "       2.33733040e-02, 2.18980505e-02, 2.18842206e-02, 2.11448787e-02,\n",
       "       2.10489704e-02, 1.97518616e-02, 1.97049795e-02, 1.90463689e-02,\n",
       "       1.89512925e-02, 1.70725984e-02, 1.70590200e-02, 2.62265381e-05])"
      ]
     },
     "execution_count": 34,
     "metadata": {},
     "output_type": "execute_result"
    }
   ],
   "source": [
    "thresholds"
   ]
  },
  {
   "cell_type": "code",
   "execution_count": 35,
   "metadata": {},
   "outputs": [
    {
     "data": {
      "image/png": "[encoded data removed]",
      "text/plain": [
       "<Figure size 432x288 with 1 Axes>"
      ]
     },
     "metadata": {
      "needs_background": "light"
     },
     "output_type": "display_data"
    }
   ],
   "source": [
    "plt.plot([0,1],[0,1],'k--')\n",
    "plt.plot(fpr,tpr,label='Logistic Regression')\n",
    "plt.xlabel('False positive rate')\n",
    "plt.ylabel('True positive rate')\n",
    "plt.title('Logistic Regression')\n",
    "plt.show()"
   ]
  },
  {
   "cell_type": "code",
   "execution_count": 36,
   "metadata": {},
   "outputs": [
    {
     "name": "stdout",
     "output_type": "stream",
     "text": [
      "1.0\n"
     ]
    }
   ],
   "source": [
    "from sklearn.tree import DecisionTreeClassifier\n",
    "dt= DecisionTreeClassifier()\n",
    "dt.fit(x_train,y_train)\n",
    "p=dt.predict(x_test)\n",
    "print(accuracy_score(y_test,p))"
   ]
  },
  {
   "cell_type": "code",
   "execution_count": 37,
   "metadata": {},
   "outputs": [],
   "source": [
    "auc_score=roc_auc_score(y_test,dt.predict(x_test))"
   ]
  },
  {
   "cell_type": "code",
   "execution_count": 38,
   "metadata": {},
   "outputs": [
    {
     "name": "stdout",
     "output_type": "stream",
     "text": [
      "1.0\n"
     ]
    }
   ],
   "source": [
    "print(auc_score)"
   ]
  },
  {
   "cell_type": "code",
   "execution_count": 39,
   "metadata": {},
   "outputs": [
    {
     "data": {
      "image/png": "[encoded data removed]",
      "text/plain": [
       "<Figure size 432x288 with 1 Axes>"
      ]
     },
     "metadata": {
      "needs_background": "light"
     },
     "output_type": "display_data"
    },
    {
     "data": {
      "text/plain": [
       "1.0"
      ]
     },
     "execution_count": 39,
     "metadata": {},
     "output_type": "execute_result"
    }
   ],
   "source": [
    "y_pred_prob=dt.predict_proba(x_test)[:,1]\n",
    "fpr,tpr,thresholds=roc_curve(y_test,y_pred_prob)\n",
    "plt.plot([0,1],[0,1],'k--')\n",
    "plt.plot(fpr,tpr,label='Decision Tree Classifier')\n",
    "plt.xlabel('False positive rate')\n",
    "plt.ylabel('True positive rate')\n",
    "plt.title('Decision Tree Classifier')\n",
    "plt.show()\n",
    "auc_score=roc_auc_score(y_test,dt.predict(x_test))\n",
    "auc_score"
   ]
  },
  {
   "cell_type": "code",
   "execution_count": null,
   "metadata": {},
   "outputs": [],
   "source": []
  },
  {
   "cell_type": "code",
   "execution_count": null,
   "metadata": {},
   "outputs": [],
   "source": []
  }
 ],
 "metadata": {
  "kernelspec": {
   "display_name": "Python 3",
   "language": "python",
   "name": "python3"
  },
  "language_info": {
   "codemirror_mode": {
    "name": "ipython",
    "version": 3
   },
   "file_extension": ".py",
   "mimetype": "text/x-python",
   "name": "python",
   "nbconvert_exporter": "python",
   "pygments_lexer": "ipython3",
   "version": "3.8.3"
  }
 },
 "nbformat": 4,
 "nbformat_minor": 4
}
